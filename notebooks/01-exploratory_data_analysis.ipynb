{
  "cells": [
    {
      "cell_type": "markdown",
      "metadata": {
        "id": "IaE-WiELkCFP"
      },
      "source": [
        "# Análise exploratória de dados"
      ]
    },
    {
      "cell_type": "markdown",
      "metadata": {
        "id": "Bc24OL0OkCFQ"
      },
      "source": [
        "## 1. Descrição dos dados"
      ]
    },
    {
      "cell_type": "markdown",
      "metadata": {
        "id": "jy0-2nvEkCFQ"
      },
      "source": [
        "### 1.1 Configurações iniciais"
      ]
    },
    {
      "cell_type": "code",
      "execution_count": 1,
      "metadata": {
        "id": "hWViFn7ykCFQ"
      },
      "outputs": [],
      "source": [
        "# importando bibliotecas\n",
        "import pandas as pd\n",
        "from pathlib import Path\n",
        "from scipy import stats\n",
        "import matplotlib.pyplot as plt\n",
        "import seaborn as sns\n",
        "import statsmodels.api as sm\n",
        "import numpy as np"
      ]
    },
    {
      "cell_type": "markdown",
      "metadata": {
        "id": "FYww7xlMkCFR"
      },
      "source": [
        "### 1.2 Dicionário de dados"
      ]
    },
    {
      "cell_type": "code",
      "execution_count": 2,
      "metadata": {
        "colab": {
          "base_uri": "https://localhost:8080/",
          "height": 582
        },
        "id": "kWwPiPxikCFR",
        "outputId": "364ab57b-2834-4676-f2cc-d7a9a12a108d"
      },
      "outputs": [
        {
          "data": {
            "text/html": [
              "<div>\n",
              "<style scoped>\n",
              "    .dataframe tbody tr th:only-of-type {\n",
              "        vertical-align: middle;\n",
              "    }\n",
              "\n",
              "    .dataframe tbody tr th {\n",
              "        vertical-align: top;\n",
              "    }\n",
              "\n",
              "    .dataframe thead th {\n",
              "        text-align: right;\n",
              "    }\n",
              "</style>\n",
              "<table border=\"1\" class=\"dataframe\">\n",
              "  <thead>\n",
              "    <tr style=\"text-align: right;\">\n",
              "      <th></th>\n",
              "      <th>Variável</th>\n",
              "      <th>Significado</th>\n",
              "      <th>Tipo</th>\n",
              "      <th>Subtipo</th>\n",
              "    </tr>\n",
              "  </thead>\n",
              "  <tbody>\n",
              "    <tr>\n",
              "      <th>0</th>\n",
              "      <td>instant</td>\n",
              "      <td>índice do registro</td>\n",
              "      <td>Quantitativa</td>\n",
              "      <td>Discreta</td>\n",
              "    </tr>\n",
              "    <tr>\n",
              "      <th>1</th>\n",
              "      <td>dteday</td>\n",
              "      <td>data</td>\n",
              "      <td>Qualitativa</td>\n",
              "      <td>Ordinal</td>\n",
              "    </tr>\n",
              "    <tr>\n",
              "      <th>2</th>\n",
              "      <td>season</td>\n",
              "      <td>estação</td>\n",
              "      <td>Qualitativa</td>\n",
              "      <td>Ordinal</td>\n",
              "    </tr>\n",
              "    <tr>\n",
              "      <th>3</th>\n",
              "      <td>yr</td>\n",
              "      <td>ano</td>\n",
              "      <td>Qualitativa</td>\n",
              "      <td>Ordinal</td>\n",
              "    </tr>\n",
              "    <tr>\n",
              "      <th>4</th>\n",
              "      <td>mnth</td>\n",
              "      <td>mês</td>\n",
              "      <td>Qualitativa</td>\n",
              "      <td>Ordinal</td>\n",
              "    </tr>\n",
              "    <tr>\n",
              "      <th>5</th>\n",
              "      <td>hr</td>\n",
              "      <td>hora</td>\n",
              "      <td>Qualitativa</td>\n",
              "      <td>Ordinal</td>\n",
              "    </tr>\n",
              "    <tr>\n",
              "      <th>6</th>\n",
              "      <td>holiday</td>\n",
              "      <td>se o dia é feriado ou não</td>\n",
              "      <td>Qualitativa</td>\n",
              "      <td>Nominal</td>\n",
              "    </tr>\n",
              "    <tr>\n",
              "      <th>7</th>\n",
              "      <td>weekday</td>\n",
              "      <td>dia da semana</td>\n",
              "      <td>Qualitativa</td>\n",
              "      <td>Ordinal</td>\n",
              "    </tr>\n",
              "    <tr>\n",
              "      <th>8</th>\n",
              "      <td>workingday</td>\n",
              "      <td>se o dia não é fim de semana nem feriado</td>\n",
              "      <td>Qualitativa</td>\n",
              "      <td>Nominal</td>\n",
              "    </tr>\n",
              "    <tr>\n",
              "      <th>9</th>\n",
              "      <td>weathersit</td>\n",
              "      <td>situação climática</td>\n",
              "      <td>Qualitativa</td>\n",
              "      <td>Ordinal</td>\n",
              "    </tr>\n",
              "    <tr>\n",
              "      <th>10</th>\n",
              "      <td>temp</td>\n",
              "      <td>temperatura normalizada em Celsius</td>\n",
              "      <td>Quantitativa</td>\n",
              "      <td>Contínua</td>\n",
              "    </tr>\n",
              "    <tr>\n",
              "      <th>11</th>\n",
              "      <td>atemp</td>\n",
              "      <td>sensação térmica normalizada em Celsius</td>\n",
              "      <td>Quantitativa</td>\n",
              "      <td>Contínua</td>\n",
              "    </tr>\n",
              "    <tr>\n",
              "      <th>12</th>\n",
              "      <td>hum</td>\n",
              "      <td>umidade normalizada</td>\n",
              "      <td>Quantitativa</td>\n",
              "      <td>Contínua</td>\n",
              "    </tr>\n",
              "    <tr>\n",
              "      <th>13</th>\n",
              "      <td>windspeed</td>\n",
              "      <td>velocidade do vento normalizada</td>\n",
              "      <td>Quantitativa</td>\n",
              "      <td>Contínua</td>\n",
              "    </tr>\n",
              "    <tr>\n",
              "      <th>14</th>\n",
              "      <td>casual</td>\n",
              "      <td>contagem de usuários ocasionais</td>\n",
              "      <td>Quantitativa</td>\n",
              "      <td>Discreta</td>\n",
              "    </tr>\n",
              "    <tr>\n",
              "      <th>15</th>\n",
              "      <td>registered</td>\n",
              "      <td>contagem de usuários registrados</td>\n",
              "      <td>Quantitativa</td>\n",
              "      <td>Discreta</td>\n",
              "    </tr>\n",
              "    <tr>\n",
              "      <th>16</th>\n",
              "      <td>cnt</td>\n",
              "      <td>contagem total de bicicletas alugadas</td>\n",
              "      <td>Quantitativa</td>\n",
              "      <td>Discreta</td>\n",
              "    </tr>\n",
              "  </tbody>\n",
              "</table>\n",
              "</div>"
            ],
            "text/plain": [
              "      Variável                               Significado          Tipo  \\\n",
              "0      instant                        índice do registro  Quantitativa   \n",
              "1       dteday                                      data   Qualitativa   \n",
              "2       season                                   estação   Qualitativa   \n",
              "3           yr                                       ano   Qualitativa   \n",
              "4         mnth                                       mês   Qualitativa   \n",
              "5           hr                                      hora   Qualitativa   \n",
              "6      holiday                 se o dia é feriado ou não   Qualitativa   \n",
              "7      weekday                             dia da semana   Qualitativa   \n",
              "8   workingday  se o dia não é fim de semana nem feriado   Qualitativa   \n",
              "9   weathersit                        situação climática   Qualitativa   \n",
              "10        temp        temperatura normalizada em Celsius  Quantitativa   \n",
              "11       atemp   sensação térmica normalizada em Celsius  Quantitativa   \n",
              "12         hum                       umidade normalizada  Quantitativa   \n",
              "13   windspeed           velocidade do vento normalizada  Quantitativa   \n",
              "14      casual           contagem de usuários ocasionais  Quantitativa   \n",
              "15  registered          contagem de usuários registrados  Quantitativa   \n",
              "16         cnt     contagem total de bicicletas alugadas  Quantitativa   \n",
              "\n",
              "     Subtipo  \n",
              "0   Discreta  \n",
              "1    Ordinal  \n",
              "2    Ordinal  \n",
              "3    Ordinal  \n",
              "4    Ordinal  \n",
              "5    Ordinal  \n",
              "6    Nominal  \n",
              "7    Ordinal  \n",
              "8    Nominal  \n",
              "9    Ordinal  \n",
              "10  Contínua  \n",
              "11  Contínua  \n",
              "12  Contínua  \n",
              "13  Contínua  \n",
              "14  Discreta  \n",
              "15  Discreta  \n",
              "16  Discreta  "
            ]
          },
          "execution_count": 2,
          "metadata": {},
          "output_type": "execute_result"
        }
      ],
      "source": [
        "# Lendo dicionario de dados\n",
        "data_path = Path('../data/external/dicionario.csv')\n",
        "df_dict = pd.read_csv(data_path, sep=';')\n",
        "\n",
        "df_dict"
      ]
    },
    {
      "cell_type": "markdown",
      "metadata": {},
      "source": [
        "#### 1.2.1 Agrupamento de variáveis"
      ]
    },
    {
      "cell_type": "markdown",
      "metadata": {},
      "source": [
        "|Grupo                |Variáveis                                                                     \n",
        "|---------------------|---------------------------------------------------------------------------------\n",
        "|`Clima`| `weathersit`, `temp`, `atemp`, `hum`, `windspeed`, `casual`, `registered`\n",
        "|`Dia`  | `instant`, `dteday`, `season`, `yr`, `mnth`, `hr`, `holiday`, `weekday`, `workingday`\n",
        "\n",
        "**Nota:** `cnt` não foi incluída em nenhum grupo pois é a variável alvo."
      ]
    },
    {
      "cell_type": "code",
      "execution_count": 3,
      "metadata": {},
      "outputs": [
        {
          "data": {
            "text/html": [
              "<div>\n",
              "<style scoped>\n",
              "    .dataframe tbody tr th:only-of-type {\n",
              "        vertical-align: middle;\n",
              "    }\n",
              "\n",
              "    .dataframe tbody tr th {\n",
              "        vertical-align: top;\n",
              "    }\n",
              "\n",
              "    .dataframe thead th {\n",
              "        text-align: right;\n",
              "    }\n",
              "</style>\n",
              "<table border=\"1\" class=\"dataframe\">\n",
              "  <thead>\n",
              "    <tr style=\"text-align: right;\">\n",
              "      <th></th>\n",
              "      <th>Variável</th>\n",
              "      <th>Significado</th>\n",
              "      <th>Tipo</th>\n",
              "      <th>Subtipo</th>\n",
              "      <th>Grupo</th>\n",
              "    </tr>\n",
              "  </thead>\n",
              "  <tbody>\n",
              "    <tr>\n",
              "      <th>0</th>\n",
              "      <td>instant</td>\n",
              "      <td>índice do registro</td>\n",
              "      <td>Quantitativa</td>\n",
              "      <td>Discreta</td>\n",
              "      <td>dia</td>\n",
              "    </tr>\n",
              "    <tr>\n",
              "      <th>1</th>\n",
              "      <td>dteday</td>\n",
              "      <td>data</td>\n",
              "      <td>Qualitativa</td>\n",
              "      <td>Ordinal</td>\n",
              "      <td>dia</td>\n",
              "    </tr>\n",
              "    <tr>\n",
              "      <th>2</th>\n",
              "      <td>season</td>\n",
              "      <td>estação</td>\n",
              "      <td>Qualitativa</td>\n",
              "      <td>Ordinal</td>\n",
              "      <td>dia</td>\n",
              "    </tr>\n",
              "    <tr>\n",
              "      <th>3</th>\n",
              "      <td>yr</td>\n",
              "      <td>ano</td>\n",
              "      <td>Qualitativa</td>\n",
              "      <td>Ordinal</td>\n",
              "      <td>dia</td>\n",
              "    </tr>\n",
              "    <tr>\n",
              "      <th>4</th>\n",
              "      <td>mnth</td>\n",
              "      <td>mês</td>\n",
              "      <td>Qualitativa</td>\n",
              "      <td>Ordinal</td>\n",
              "      <td>dia</td>\n",
              "    </tr>\n",
              "    <tr>\n",
              "      <th>5</th>\n",
              "      <td>hr</td>\n",
              "      <td>hora</td>\n",
              "      <td>Qualitativa</td>\n",
              "      <td>Ordinal</td>\n",
              "      <td>dia</td>\n",
              "    </tr>\n",
              "    <tr>\n",
              "      <th>6</th>\n",
              "      <td>holiday</td>\n",
              "      <td>se o dia é feriado ou não</td>\n",
              "      <td>Qualitativa</td>\n",
              "      <td>Nominal</td>\n",
              "      <td>dia</td>\n",
              "    </tr>\n",
              "    <tr>\n",
              "      <th>7</th>\n",
              "      <td>weekday</td>\n",
              "      <td>dia da semana</td>\n",
              "      <td>Qualitativa</td>\n",
              "      <td>Ordinal</td>\n",
              "      <td>dia</td>\n",
              "    </tr>\n",
              "    <tr>\n",
              "      <th>8</th>\n",
              "      <td>workingday</td>\n",
              "      <td>se o dia não é fim de semana nem feriado</td>\n",
              "      <td>Qualitativa</td>\n",
              "      <td>Nominal</td>\n",
              "      <td>dia</td>\n",
              "    </tr>\n",
              "    <tr>\n",
              "      <th>9</th>\n",
              "      <td>weathersit</td>\n",
              "      <td>situação climática</td>\n",
              "      <td>Qualitativa</td>\n",
              "      <td>Ordinal</td>\n",
              "      <td>Clima</td>\n",
              "    </tr>\n",
              "    <tr>\n",
              "      <th>10</th>\n",
              "      <td>temp</td>\n",
              "      <td>temperatura normalizada em Celsius</td>\n",
              "      <td>Quantitativa</td>\n",
              "      <td>Contínua</td>\n",
              "      <td>Clima</td>\n",
              "    </tr>\n",
              "    <tr>\n",
              "      <th>11</th>\n",
              "      <td>atemp</td>\n",
              "      <td>sensação térmica normalizada em Celsius</td>\n",
              "      <td>Quantitativa</td>\n",
              "      <td>Contínua</td>\n",
              "      <td>Clima</td>\n",
              "    </tr>\n",
              "    <tr>\n",
              "      <th>12</th>\n",
              "      <td>hum</td>\n",
              "      <td>umidade normalizada</td>\n",
              "      <td>Quantitativa</td>\n",
              "      <td>Contínua</td>\n",
              "      <td>Clima</td>\n",
              "    </tr>\n",
              "    <tr>\n",
              "      <th>13</th>\n",
              "      <td>windspeed</td>\n",
              "      <td>velocidade do vento normalizada</td>\n",
              "      <td>Quantitativa</td>\n",
              "      <td>Contínua</td>\n",
              "      <td>Clima</td>\n",
              "    </tr>\n",
              "    <tr>\n",
              "      <th>14</th>\n",
              "      <td>casual</td>\n",
              "      <td>contagem de usuários ocasionais</td>\n",
              "      <td>Quantitativa</td>\n",
              "      <td>Discreta</td>\n",
              "      <td>Clima</td>\n",
              "    </tr>\n",
              "    <tr>\n",
              "      <th>15</th>\n",
              "      <td>registered</td>\n",
              "      <td>contagem de usuários registrados</td>\n",
              "      <td>Quantitativa</td>\n",
              "      <td>Discreta</td>\n",
              "      <td>Clima</td>\n",
              "    </tr>\n",
              "    <tr>\n",
              "      <th>16</th>\n",
              "      <td>cnt</td>\n",
              "      <td>contagem total de bicicletas alugadas</td>\n",
              "      <td>Quantitativa</td>\n",
              "      <td>Discreta</td>\n",
              "      <td></td>\n",
              "    </tr>\n",
              "  </tbody>\n",
              "</table>\n",
              "</div>"
            ],
            "text/plain": [
              "      Variável                               Significado          Tipo  \\\n",
              "0      instant                        índice do registro  Quantitativa   \n",
              "1       dteday                                      data   Qualitativa   \n",
              "2       season                                   estação   Qualitativa   \n",
              "3           yr                                       ano   Qualitativa   \n",
              "4         mnth                                       mês   Qualitativa   \n",
              "5           hr                                      hora   Qualitativa   \n",
              "6      holiday                 se o dia é feriado ou não   Qualitativa   \n",
              "7      weekday                             dia da semana   Qualitativa   \n",
              "8   workingday  se o dia não é fim de semana nem feriado   Qualitativa   \n",
              "9   weathersit                        situação climática   Qualitativa   \n",
              "10        temp        temperatura normalizada em Celsius  Quantitativa   \n",
              "11       atemp   sensação térmica normalizada em Celsius  Quantitativa   \n",
              "12         hum                       umidade normalizada  Quantitativa   \n",
              "13   windspeed           velocidade do vento normalizada  Quantitativa   \n",
              "14      casual           contagem de usuários ocasionais  Quantitativa   \n",
              "15  registered          contagem de usuários registrados  Quantitativa   \n",
              "16         cnt     contagem total de bicicletas alugadas  Quantitativa   \n",
              "\n",
              "     Subtipo  Grupo  \n",
              "0   Discreta    dia  \n",
              "1    Ordinal    dia  \n",
              "2    Ordinal    dia  \n",
              "3    Ordinal    dia  \n",
              "4    Ordinal    dia  \n",
              "5    Ordinal    dia  \n",
              "6    Nominal    dia  \n",
              "7    Ordinal    dia  \n",
              "8    Nominal    dia  \n",
              "9    Ordinal  Clima  \n",
              "10  Contínua  Clima  \n",
              "11  Contínua  Clima  \n",
              "12  Contínua  Clima  \n",
              "13  Contínua  Clima  \n",
              "14  Discreta  Clima  \n",
              "15  Discreta  Clima  \n",
              "16  Discreta         "
            ]
          },
          "execution_count": 3,
          "metadata": {},
          "output_type": "execute_result"
        }
      ],
      "source": [
        "def group_separation(row):\n",
        "    if row['Variável'] == 'cnt':\n",
        "        return ''\n",
        "    elif row['Variável'] in ['weathersit', 'temp', 'atemp', 'hum', 'windspeed', 'casual', 'registered']:\n",
        "        return 'Clima'\n",
        "    else:\n",
        "        return 'dia'\n",
        "\n",
        "\n",
        "df_dict = df_dict.assign(\n",
        "    Grupo = df_dict.apply(group_separation, axis=1)\n",
        ")\n",
        "columns_by_group = {\n",
        "    group: df_dict.query(\"Grupo == @group\")['Variável'].to_list()\n",
        "    for group in df_dict.Grupo.unique()\n",
        "}\n",
        "\n",
        "df_dict"
      ]
    },
    {
      "cell_type": "markdown",
      "metadata": {
        "id": "B1l6kuhxkCFR"
      },
      "source": [
        "### 1.3 Conjunto de dados"
      ]
    },
    {
      "cell_type": "markdown",
      "metadata": {
        "id": "ThC5LMoGkCFS"
      },
      "source": [
        "Leitura do conjunto de dados"
      ]
    },
    {
      "cell_type": "code",
      "execution_count": 4,
      "metadata": {
        "colab": {
          "base_uri": "https://localhost:8080/",
          "height": 423
        },
        "id": "DoJff2imkCFS",
        "outputId": "fe9c3526-5bc4-46d8-e891-765ad564a3bb"
      },
      "outputs": [
        {
          "data": {
            "text/html": [
              "<div>\n",
              "<style scoped>\n",
              "    .dataframe tbody tr th:only-of-type {\n",
              "        vertical-align: middle;\n",
              "    }\n",
              "\n",
              "    .dataframe tbody tr th {\n",
              "        vertical-align: top;\n",
              "    }\n",
              "\n",
              "    .dataframe thead th {\n",
              "        text-align: right;\n",
              "    }\n",
              "</style>\n",
              "<table border=\"1\" class=\"dataframe\">\n",
              "  <thead>\n",
              "    <tr style=\"text-align: right;\">\n",
              "      <th></th>\n",
              "      <th>instant</th>\n",
              "      <th>dteday</th>\n",
              "      <th>season</th>\n",
              "      <th>yr</th>\n",
              "      <th>mnth</th>\n",
              "      <th>hr</th>\n",
              "      <th>holiday</th>\n",
              "      <th>weekday</th>\n",
              "      <th>workingday</th>\n",
              "      <th>weathersit</th>\n",
              "      <th>temp</th>\n",
              "      <th>atemp</th>\n",
              "      <th>hum</th>\n",
              "      <th>windspeed</th>\n",
              "      <th>casual</th>\n",
              "      <th>registered</th>\n",
              "      <th>cnt</th>\n",
              "    </tr>\n",
              "  </thead>\n",
              "  <tbody>\n",
              "    <tr>\n",
              "      <th>0</th>\n",
              "      <td>1</td>\n",
              "      <td>2011-01-01</td>\n",
              "      <td>1</td>\n",
              "      <td>0</td>\n",
              "      <td>1</td>\n",
              "      <td>0</td>\n",
              "      <td>0</td>\n",
              "      <td>6</td>\n",
              "      <td>0</td>\n",
              "      <td>1</td>\n",
              "      <td>0.24</td>\n",
              "      <td>0.2879</td>\n",
              "      <td>0.81</td>\n",
              "      <td>0.0000</td>\n",
              "      <td>3</td>\n",
              "      <td>13</td>\n",
              "      <td>16</td>\n",
              "    </tr>\n",
              "    <tr>\n",
              "      <th>1</th>\n",
              "      <td>2</td>\n",
              "      <td>2011-01-01</td>\n",
              "      <td>1</td>\n",
              "      <td>0</td>\n",
              "      <td>1</td>\n",
              "      <td>1</td>\n",
              "      <td>0</td>\n",
              "      <td>6</td>\n",
              "      <td>0</td>\n",
              "      <td>1</td>\n",
              "      <td>0.22</td>\n",
              "      <td>0.2727</td>\n",
              "      <td>0.80</td>\n",
              "      <td>0.0000</td>\n",
              "      <td>8</td>\n",
              "      <td>32</td>\n",
              "      <td>40</td>\n",
              "    </tr>\n",
              "    <tr>\n",
              "      <th>2</th>\n",
              "      <td>3</td>\n",
              "      <td>2011-01-01</td>\n",
              "      <td>1</td>\n",
              "      <td>0</td>\n",
              "      <td>1</td>\n",
              "      <td>2</td>\n",
              "      <td>0</td>\n",
              "      <td>6</td>\n",
              "      <td>0</td>\n",
              "      <td>1</td>\n",
              "      <td>0.22</td>\n",
              "      <td>0.2727</td>\n",
              "      <td>0.80</td>\n",
              "      <td>0.0000</td>\n",
              "      <td>5</td>\n",
              "      <td>27</td>\n",
              "      <td>32</td>\n",
              "    </tr>\n",
              "    <tr>\n",
              "      <th>3</th>\n",
              "      <td>4</td>\n",
              "      <td>2011-01-01</td>\n",
              "      <td>1</td>\n",
              "      <td>0</td>\n",
              "      <td>1</td>\n",
              "      <td>3</td>\n",
              "      <td>0</td>\n",
              "      <td>6</td>\n",
              "      <td>0</td>\n",
              "      <td>1</td>\n",
              "      <td>0.24</td>\n",
              "      <td>0.2879</td>\n",
              "      <td>0.75</td>\n",
              "      <td>0.0000</td>\n",
              "      <td>3</td>\n",
              "      <td>10</td>\n",
              "      <td>13</td>\n",
              "    </tr>\n",
              "    <tr>\n",
              "      <th>4</th>\n",
              "      <td>5</td>\n",
              "      <td>2011-01-01</td>\n",
              "      <td>1</td>\n",
              "      <td>0</td>\n",
              "      <td>1</td>\n",
              "      <td>4</td>\n",
              "      <td>0</td>\n",
              "      <td>6</td>\n",
              "      <td>0</td>\n",
              "      <td>1</td>\n",
              "      <td>0.24</td>\n",
              "      <td>0.2879</td>\n",
              "      <td>0.75</td>\n",
              "      <td>0.0000</td>\n",
              "      <td>0</td>\n",
              "      <td>1</td>\n",
              "      <td>1</td>\n",
              "    </tr>\n",
              "    <tr>\n",
              "      <th>...</th>\n",
              "      <td>...</td>\n",
              "      <td>...</td>\n",
              "      <td>...</td>\n",
              "      <td>...</td>\n",
              "      <td>...</td>\n",
              "      <td>...</td>\n",
              "      <td>...</td>\n",
              "      <td>...</td>\n",
              "      <td>...</td>\n",
              "      <td>...</td>\n",
              "      <td>...</td>\n",
              "      <td>...</td>\n",
              "      <td>...</td>\n",
              "      <td>...</td>\n",
              "      <td>...</td>\n",
              "      <td>...</td>\n",
              "      <td>...</td>\n",
              "    </tr>\n",
              "    <tr>\n",
              "      <th>17374</th>\n",
              "      <td>17375</td>\n",
              "      <td>2012-12-31</td>\n",
              "      <td>1</td>\n",
              "      <td>1</td>\n",
              "      <td>12</td>\n",
              "      <td>19</td>\n",
              "      <td>0</td>\n",
              "      <td>1</td>\n",
              "      <td>1</td>\n",
              "      <td>2</td>\n",
              "      <td>0.26</td>\n",
              "      <td>0.2576</td>\n",
              "      <td>0.60</td>\n",
              "      <td>0.1642</td>\n",
              "      <td>11</td>\n",
              "      <td>108</td>\n",
              "      <td>119</td>\n",
              "    </tr>\n",
              "    <tr>\n",
              "      <th>17375</th>\n",
              "      <td>17376</td>\n",
              "      <td>2012-12-31</td>\n",
              "      <td>1</td>\n",
              "      <td>1</td>\n",
              "      <td>12</td>\n",
              "      <td>20</td>\n",
              "      <td>0</td>\n",
              "      <td>1</td>\n",
              "      <td>1</td>\n",
              "      <td>2</td>\n",
              "      <td>0.26</td>\n",
              "      <td>0.2576</td>\n",
              "      <td>0.60</td>\n",
              "      <td>0.1642</td>\n",
              "      <td>8</td>\n",
              "      <td>81</td>\n",
              "      <td>89</td>\n",
              "    </tr>\n",
              "    <tr>\n",
              "      <th>17376</th>\n",
              "      <td>17377</td>\n",
              "      <td>2012-12-31</td>\n",
              "      <td>1</td>\n",
              "      <td>1</td>\n",
              "      <td>12</td>\n",
              "      <td>21</td>\n",
              "      <td>0</td>\n",
              "      <td>1</td>\n",
              "      <td>1</td>\n",
              "      <td>1</td>\n",
              "      <td>0.26</td>\n",
              "      <td>0.2576</td>\n",
              "      <td>0.60</td>\n",
              "      <td>0.1642</td>\n",
              "      <td>7</td>\n",
              "      <td>83</td>\n",
              "      <td>90</td>\n",
              "    </tr>\n",
              "    <tr>\n",
              "      <th>17377</th>\n",
              "      <td>17378</td>\n",
              "      <td>2012-12-31</td>\n",
              "      <td>1</td>\n",
              "      <td>1</td>\n",
              "      <td>12</td>\n",
              "      <td>22</td>\n",
              "      <td>0</td>\n",
              "      <td>1</td>\n",
              "      <td>1</td>\n",
              "      <td>1</td>\n",
              "      <td>0.26</td>\n",
              "      <td>0.2727</td>\n",
              "      <td>0.56</td>\n",
              "      <td>0.1343</td>\n",
              "      <td>13</td>\n",
              "      <td>48</td>\n",
              "      <td>61</td>\n",
              "    </tr>\n",
              "    <tr>\n",
              "      <th>17378</th>\n",
              "      <td>17379</td>\n",
              "      <td>2012-12-31</td>\n",
              "      <td>1</td>\n",
              "      <td>1</td>\n",
              "      <td>12</td>\n",
              "      <td>23</td>\n",
              "      <td>0</td>\n",
              "      <td>1</td>\n",
              "      <td>1</td>\n",
              "      <td>1</td>\n",
              "      <td>0.26</td>\n",
              "      <td>0.2727</td>\n",
              "      <td>0.65</td>\n",
              "      <td>0.1343</td>\n",
              "      <td>12</td>\n",
              "      <td>37</td>\n",
              "      <td>49</td>\n",
              "    </tr>\n",
              "  </tbody>\n",
              "</table>\n",
              "<p>17379 rows × 17 columns</p>\n",
              "</div>"
            ],
            "text/plain": [
              "       instant      dteday  season  yr  mnth  hr  holiday  weekday  \\\n",
              "0            1  2011-01-01       1   0     1   0        0        6   \n",
              "1            2  2011-01-01       1   0     1   1        0        6   \n",
              "2            3  2011-01-01       1   0     1   2        0        6   \n",
              "3            4  2011-01-01       1   0     1   3        0        6   \n",
              "4            5  2011-01-01       1   0     1   4        0        6   \n",
              "...        ...         ...     ...  ..   ...  ..      ...      ...   \n",
              "17374    17375  2012-12-31       1   1    12  19        0        1   \n",
              "17375    17376  2012-12-31       1   1    12  20        0        1   \n",
              "17376    17377  2012-12-31       1   1    12  21        0        1   \n",
              "17377    17378  2012-12-31       1   1    12  22        0        1   \n",
              "17378    17379  2012-12-31       1   1    12  23        0        1   \n",
              "\n",
              "       workingday  weathersit  temp   atemp   hum  windspeed  casual  \\\n",
              "0               0           1  0.24  0.2879  0.81     0.0000       3   \n",
              "1               0           1  0.22  0.2727  0.80     0.0000       8   \n",
              "2               0           1  0.22  0.2727  0.80     0.0000       5   \n",
              "3               0           1  0.24  0.2879  0.75     0.0000       3   \n",
              "4               0           1  0.24  0.2879  0.75     0.0000       0   \n",
              "...           ...         ...   ...     ...   ...        ...     ...   \n",
              "17374           1           2  0.26  0.2576  0.60     0.1642      11   \n",
              "17375           1           2  0.26  0.2576  0.60     0.1642       8   \n",
              "17376           1           1  0.26  0.2576  0.60     0.1642       7   \n",
              "17377           1           1  0.26  0.2727  0.56     0.1343      13   \n",
              "17378           1           1  0.26  0.2727  0.65     0.1343      12   \n",
              "\n",
              "       registered  cnt  \n",
              "0              13   16  \n",
              "1              32   40  \n",
              "2              27   32  \n",
              "3              10   13  \n",
              "4               1    1  \n",
              "...           ...  ...  \n",
              "17374         108  119  \n",
              "17375          81   89  \n",
              "17376          83   90  \n",
              "17377          48   61  \n",
              "17378          37   49  \n",
              "\n",
              "[17379 rows x 17 columns]"
            ]
          },
          "execution_count": 4,
          "metadata": {},
          "output_type": "execute_result"
        }
      ],
      "source": [
        "data_path = Path('../data/raw/hour.csv')\n",
        "df = pd.read_csv(data_path)\n",
        "\n",
        "df"
      ]
    },
    {
      "cell_type": "code",
      "execution_count": 5,
      "metadata": {
        "colab": {
          "base_uri": "https://localhost:8080/"
        },
        "id": "o5y0MZykkCFS",
        "outputId": "68966b54-e1b5-4856-8fe5-d820beb5fc5c"
      },
      "outputs": [
        {
          "name": "stdout",
          "output_type": "stream",
          "text": [
            "<class 'pandas.core.frame.DataFrame'>\n",
            "RangeIndex: 17379 entries, 0 to 17378\n",
            "Data columns (total 17 columns):\n",
            " #   Column      Non-Null Count  Dtype  \n",
            "---  ------      --------------  -----  \n",
            " 0   instant     17379 non-null  int64  \n",
            " 1   dteday      17379 non-null  object \n",
            " 2   season      17379 non-null  int64  \n",
            " 3   yr          17379 non-null  int64  \n",
            " 4   mnth        17379 non-null  int64  \n",
            " 5   hr          17379 non-null  int64  \n",
            " 6   holiday     17379 non-null  int64  \n",
            " 7   weekday     17379 non-null  int64  \n",
            " 8   workingday  17379 non-null  int64  \n",
            " 9   weathersit  17379 non-null  int64  \n",
            " 10  temp        17379 non-null  float64\n",
            " 11  atemp       17379 non-null  float64\n",
            " 12  hum         17379 non-null  float64\n",
            " 13  windspeed   17379 non-null  float64\n",
            " 14  casual      17379 non-null  int64  \n",
            " 15  registered  17379 non-null  int64  \n",
            " 16  cnt         17379 non-null  int64  \n",
            "dtypes: float64(4), int64(12), object(1)\n",
            "memory usage: 2.3+ MB\n"
          ]
        }
      ],
      "source": [
        "df.info()"
      ]
    },
    {
      "cell_type": "markdown",
      "metadata": {
        "id": "V-SJQReukCFS"
      },
      "source": [
        "### 1.4 Dados faltantes"
      ]
    },
    {
      "cell_type": "markdown",
      "metadata": {
        "id": "1NkIYXbnkCFS"
      },
      "source": [
        "Verificar se existe algum valor nulo (NaN)."
      ]
    },
    {
      "cell_type": "code",
      "execution_count": 6,
      "metadata": {
        "colab": {
          "base_uri": "https://localhost:8080/"
        },
        "id": "ajw3TBiBkCFS",
        "outputId": "c85f3d7f-c2ad-4f54-a3c1-61876d074377"
      },
      "outputs": [
        {
          "data": {
            "text/plain": [
              "instant       0\n",
              "dteday        0\n",
              "season        0\n",
              "yr            0\n",
              "mnth          0\n",
              "hr            0\n",
              "holiday       0\n",
              "weekday       0\n",
              "workingday    0\n",
              "weathersit    0\n",
              "temp          0\n",
              "atemp         0\n",
              "hum           0\n",
              "windspeed     0\n",
              "casual        0\n",
              "registered    0\n",
              "cnt           0\n",
              "dtype: int64"
            ]
          },
          "execution_count": 6,
          "metadata": {},
          "output_type": "execute_result"
        }
      ],
      "source": [
        "df.isnull().sum()"
      ]
    },
    {
      "cell_type": "markdown",
      "metadata": {
        "id": "erZpFSA8kCFS"
      },
      "source": [
        "Não há nenhum valor nulo encontrado."
      ]
    },
    {
      "cell_type": "markdown",
      "metadata": {
        "id": "8T19wWs6kCFS"
      },
      "source": [
        "Checa se outros valores foram utilizados para representar dados faltantes."
      ]
    },
    {
      "cell_type": "code",
      "execution_count": 7,
      "metadata": {
        "id": "iErCn7hRkCFT",
        "outputId": "1f791da9-4cdb-4ce3-b639-b9025ddb25ff"
      },
      "outputs": [
        {
          "data": {
            "text/html": [
              "<div>\n",
              "<style scoped>\n",
              "    .dataframe tbody tr th:only-of-type {\n",
              "        vertical-align: middle;\n",
              "    }\n",
              "\n",
              "    .dataframe tbody tr th {\n",
              "        vertical-align: top;\n",
              "    }\n",
              "\n",
              "    .dataframe thead th {\n",
              "        text-align: right;\n",
              "    }\n",
              "</style>\n",
              "<table border=\"1\" class=\"dataframe\">\n",
              "  <thead>\n",
              "    <tr style=\"text-align: right;\">\n",
              "      <th></th>\n",
              "      <th>Variável</th>\n",
              "      <th>Valores</th>\n",
              "    </tr>\n",
              "  </thead>\n",
              "  <tbody>\n",
              "    <tr>\n",
              "      <th>0</th>\n",
              "      <td>instant</td>\n",
              "      <td>[1, 2, 3, 4, 5, 6, 7, 8, 9, 10, 11, 12, 13, 14...</td>\n",
              "    </tr>\n",
              "    <tr>\n",
              "      <th>1</th>\n",
              "      <td>dteday</td>\n",
              "      <td>[2011-01-01, 2011-01-02, 2011-01-03, 2011-01-0...</td>\n",
              "    </tr>\n",
              "    <tr>\n",
              "      <th>2</th>\n",
              "      <td>season</td>\n",
              "      <td>[1, 2, 3, 4]</td>\n",
              "    </tr>\n",
              "    <tr>\n",
              "      <th>3</th>\n",
              "      <td>yr</td>\n",
              "      <td>[0, 1]</td>\n",
              "    </tr>\n",
              "    <tr>\n",
              "      <th>4</th>\n",
              "      <td>mnth</td>\n",
              "      <td>[1, 2, 3, 4, 5, 6, 7, 8, 9, 10, 11, 12]</td>\n",
              "    </tr>\n",
              "    <tr>\n",
              "      <th>5</th>\n",
              "      <td>hr</td>\n",
              "      <td>[0, 1, 2, 3, 4, 5, 6, 7, 8, 9, 10, 11, 12, 13,...</td>\n",
              "    </tr>\n",
              "    <tr>\n",
              "      <th>6</th>\n",
              "      <td>holiday</td>\n",
              "      <td>[0, 1]</td>\n",
              "    </tr>\n",
              "    <tr>\n",
              "      <th>7</th>\n",
              "      <td>weekday</td>\n",
              "      <td>[6, 0, 1, 2, 3, 4, 5]</td>\n",
              "    </tr>\n",
              "    <tr>\n",
              "      <th>8</th>\n",
              "      <td>workingday</td>\n",
              "      <td>[0, 1]</td>\n",
              "    </tr>\n",
              "    <tr>\n",
              "      <th>9</th>\n",
              "      <td>weathersit</td>\n",
              "      <td>[1, 2, 3, 4]</td>\n",
              "    </tr>\n",
              "    <tr>\n",
              "      <th>10</th>\n",
              "      <td>temp</td>\n",
              "      <td>[0.24, 0.22, 0.2, 0.32, 0.38, 0.36, 0.42, 0.46...</td>\n",
              "    </tr>\n",
              "    <tr>\n",
              "      <th>11</th>\n",
              "      <td>atemp</td>\n",
              "      <td>[0.2879, 0.2727, 0.2576, 0.3485, 0.3939, 0.333...</td>\n",
              "    </tr>\n",
              "    <tr>\n",
              "      <th>12</th>\n",
              "      <td>hum</td>\n",
              "      <td>[0.81, 0.8, 0.75, 0.86, 0.76, 0.77, 0.72, 0.82...</td>\n",
              "    </tr>\n",
              "    <tr>\n",
              "      <th>13</th>\n",
              "      <td>windspeed</td>\n",
              "      <td>[0.0, 0.0896, 0.2537, 0.2836, 0.2985, 0.194, 0...</td>\n",
              "    </tr>\n",
              "    <tr>\n",
              "      <th>14</th>\n",
              "      <td>casual</td>\n",
              "      <td>[3, 8, 5, 0, 2, 1, 12, 26, 29, 47, 35, 40, 41,...</td>\n",
              "    </tr>\n",
              "    <tr>\n",
              "      <th>15</th>\n",
              "      <td>registered</td>\n",
              "      <td>[13, 32, 27, 10, 1, 0, 2, 7, 6, 24, 30, 55, 47...</td>\n",
              "    </tr>\n",
              "    <tr>\n",
              "      <th>16</th>\n",
              "      <td>cnt</td>\n",
              "      <td>[16, 40, 32, 13, 1, 2, 3, 8, 14, 36, 56, 84, 9...</td>\n",
              "    </tr>\n",
              "  </tbody>\n",
              "</table>\n",
              "</div>"
            ],
            "text/plain": [
              "      Variável                                            Valores\n",
              "0      instant  [1, 2, 3, 4, 5, 6, 7, 8, 9, 10, 11, 12, 13, 14...\n",
              "1       dteday  [2011-01-01, 2011-01-02, 2011-01-03, 2011-01-0...\n",
              "2       season                                       [1, 2, 3, 4]\n",
              "3           yr                                             [0, 1]\n",
              "4         mnth            [1, 2, 3, 4, 5, 6, 7, 8, 9, 10, 11, 12]\n",
              "5           hr  [0, 1, 2, 3, 4, 5, 6, 7, 8, 9, 10, 11, 12, 13,...\n",
              "6      holiday                                             [0, 1]\n",
              "7      weekday                              [6, 0, 1, 2, 3, 4, 5]\n",
              "8   workingday                                             [0, 1]\n",
              "9   weathersit                                       [1, 2, 3, 4]\n",
              "10        temp  [0.24, 0.22, 0.2, 0.32, 0.38, 0.36, 0.42, 0.46...\n",
              "11       atemp  [0.2879, 0.2727, 0.2576, 0.3485, 0.3939, 0.333...\n",
              "12         hum  [0.81, 0.8, 0.75, 0.86, 0.76, 0.77, 0.72, 0.82...\n",
              "13   windspeed  [0.0, 0.0896, 0.2537, 0.2836, 0.2985, 0.194, 0...\n",
              "14      casual  [3, 8, 5, 0, 2, 1, 12, 26, 29, 47, 35, 40, 41,...\n",
              "15  registered  [13, 32, 27, 10, 1, 0, 2, 7, 6, 24, 30, 55, 47...\n",
              "16         cnt  [16, 40, 32, 13, 1, 2, 3, 8, 14, 36, 56, 84, 9..."
            ]
          },
          "execution_count": 7,
          "metadata": {},
          "output_type": "execute_result"
        }
      ],
      "source": [
        "uniques = {'Variável': df_dict['Variável'], 'Valores': []}\n",
        "for index, row in df_dict.iterrows():\n",
        "    uniques['Valores'].append(df[row['Variável']].unique())\n",
        "\n",
        "df_uniques = pd.DataFrame.from_dict(uniques)\n",
        "df_uniques"
      ]
    },
    {
      "cell_type": "markdown",
      "metadata": {
        "id": "DZ_vEHrYkCFT"
      },
      "source": [
        "## 2. Perguntas de partida e hipóteses"
      ]
    },
    {
      "cell_type": "markdown",
      "metadata": {
        "id": "ElASPxFMklJH"
      },
      "source": [
        "### 2.1. A demanda por bicicletas é influenciada pela estação do ano?\n",
        "\n",
        "Hipótese: O verão tem uma demanda maior devido ao clima ser mais propício."
      ]
    },
    {
      "cell_type": "code",
      "execution_count": 8,
      "metadata": {
        "colab": {
          "base_uri": "https://localhost:8080/",
          "height": 601
        },
        "id": "J8V4LPDWkCFT",
        "outputId": "5e9c18fd-1df0-4c5a-f02c-32367069d0e2"
      },
      "outputs": [
        {
          "data": {
            "image/png": "[encoded data removed]",
            "text/plain": [
              "<Figure size 720x432 with 1 Axes>"
            ]
          },
          "metadata": {
            "needs_background": "light"
          },
          "output_type": "display_data"
        },
        {
          "name": "stdout",
          "output_type": "stream",
          "text": [
            "Resultado do teste ANOVA - F-statistic: 409.1810372630525, p-value: 7.40107139971279e-257\n",
            "Há influência estatisticamente significativa da estação na demanda.\n"
          ]
        }
      ],
      "source": [
        "# Crie um boxplot para visualizar a distribuição da demanda por estação\n",
        "plt.figure(figsize=(10, 6))\n",
        "sns.boxplot(x='season', y='cnt', data=df)\n",
        "plt.title('Distribuição da Demanda por Estação do Ano')\n",
        "plt.xlabel('Estação do Ano')\n",
        "plt.ylabel('Demanda (cnt)')\n",
        "plt.show()\n",
        "\n",
        "# Realize um teste estatístico, como ANOVA, para verificar a influência da estação na demanda\n",
        "from scipy.stats import f_oneway\n",
        "\n",
        "# Divida o DataFrame em subconjuntos para cada estação\n",
        "spring = df[df['season'] == 1]['cnt']\n",
        "summer = df[df['season'] == 2]['cnt']\n",
        "fall = df[df['season'] == 3]['cnt']\n",
        "winter = df[df['season'] == 4]['cnt']\n",
        "\n",
        "# Realize o teste ANOVA\n",
        "f_statistic, p_value = f_oneway(spring, summer, fall, winter)\n",
        "\n",
        "# Imprima o resultado do teste\n",
        "print(f\"Resultado do teste ANOVA - F-statistic: {f_statistic}, p-value: {p_value}\")\n",
        "\n",
        "# Analise o p-value para determinar se há influência estatisticamente significativa da estação na demanda\n",
        "alpha = 0.05  # Nível de significância\n",
        "if p_value < alpha:\n",
        "    print(\"Há influência estatisticamente significativa da estação na demanda.\")\n",
        "else:\n",
        "    print(\"Não há influência estatisticamente significativa da estação na demanda.\")"
      ]
    },
    {
      "cell_type": "markdown",
      "metadata": {
        "id": "rRpmQhmxGiMj"
      },
      "source": [
        "Criamos um boxplot para visualizar a distribuição da demanda por estação do ano.\n",
        "\n",
        "Realizamos um teste estatístico ANOVA para verificar se há diferenças estatisticamente significativas na demanda entre as estações.\n",
        "\n",
        "Comparamos o p-value com um nível de significância (alpha) para determinar se a estação do ano influencia estatisticamente a demanda por bicicletas."
      ]
    },
    {
      "cell_type": "markdown",
      "metadata": {
        "id": "VxuNJuTzk2r-"
      },
      "source": [
        "### 2.2. A demanda é menor em feriados?\n",
        "\n",
        "Hipótese: Em feriados, as pessoas tendem a não trabalhar, reduzindo a necessidade de transporte."
      ]
    },
    {
      "cell_type": "code",
      "execution_count": 9,
      "metadata": {
        "colab": {
          "base_uri": "https://localhost:8080/",
          "height": 490
        },
        "id": "zKlu_vRTk-5n",
        "outputId": "99a00981-1e73-42d2-b939-fe13a1782ec1"
      },
      "outputs": [
        {
          "data": {
            "image/png": "[encoded data removed]",
            "text/plain": [
              "<Figure size 432x288 with 1 Axes>"
            ]
          },
          "metadata": {
            "needs_background": "light"
          },
          "output_type": "display_data"
        },
        {
          "name": "stdout",
          "output_type": "stream",
          "text": [
            "A diferença é estatisticamente significativa (p-valor = 4.5461689487652855e-05).\n",
            "A demanda é menor em feriados.\n"
          ]
        }
      ],
      "source": [
        "# Filtrar os dados para dias de feriado e dias que não são feriados\n",
        "feriados = df[df['holiday'] == 1]\n",
        "nao_feriados = df[df['holiday'] == 0]\n",
        "\n",
        "# Calcular a média de aluguéis para cada grupo\n",
        "media_feriados = feriados['cnt'].mean()\n",
        "media_nao_feriados = nao_feriados['cnt'].mean()\n",
        "\n",
        "# Realizar um teste t de Student para verificar a diferença\n",
        "t_stat, p_valor = stats.ttest_ind(feriados['cnt'], nao_feriados['cnt'])\n",
        "\n",
        "# Plotar um gráfico de barras para visualização\n",
        "plt.bar(['Feriados', 'Não Feriados'], [media_feriados, media_nao_feriados])\n",
        "plt.ylabel('Média de Aluguéis de Bicicletas')\n",
        "plt.title('Média de Aluguéis de Bicicletas em Feriados vs. Não Feriados')\n",
        "plt.show()\n",
        "\n",
        "# Imprimir o resultado do teste de hipótese\n",
        "if p_valor < 0.05:\n",
        "    print(f\"A diferença é estatisticamente significativa (p-valor = {p_valor}).\")\n",
        "    print(\"A demanda é menor em feriados.\")\n",
        "else:\n",
        "    print(f\"A diferença não é estatisticamente significativa (p-valor = {p_valor}).\")\n",
        "    print(\"Não há evidência de que a demanda seja menor em feriados.\")"
      ]
    },
    {
      "cell_type": "markdown",
      "metadata": {
        "id": "AulVDUfFlGkD"
      },
      "source": [
        "### 2.3. A demanda é afetada pelo clima?\n",
        "\n",
        "Hipótese: Dias claros têm uma demanda maior do que dias chuvosos ou nevados."
      ]
    },
    {
      "cell_type": "code",
      "execution_count": 10,
      "metadata": {
        "id": "hDcA45cnlRoV"
      },
      "outputs": [],
      "source": [
        "# Mapeie os valores de weathersit para condições claras ou não claras\n",
        "conditions = {\n",
        "    1: 'Claro',\n",
        "    2: 'Não Claro',\n",
        "    3: 'Não Claro',\n",
        "    4: 'Não Claro'\n",
        "}\n",
        "\n",
        "df['condicao_climatica'] = df['weathersit'].map(conditions)"
      ]
    },
    {
      "cell_type": "code",
      "execution_count": 11,
      "metadata": {
        "colab": {
          "base_uri": "https://localhost:8080/",
          "height": 565
        },
        "id": "jDREyejfpxF0",
        "outputId": "aa22a432-715f-4e15-82dc-584049d80711"
      },
      "outputs": [
        {
          "data": {
            "image/png": "[encoded data removed]",
            "text/plain": [
              "<Figure size 576x432 with 1 Axes>"
            ]
          },
          "metadata": {
            "needs_background": "light"
          },
          "output_type": "display_data"
        }
      ],
      "source": [
        "# Agrupe os dados por condição climática e calcule a média da demanda total\n",
        "demanda_por_clima = df.groupby('condicao_climatica')['cnt'].mean()\n",
        "\n",
        "# Crie um gráfico de barras para visualizar a demanda por clima\n",
        "plt.figure(figsize=(8, 6))\n",
        "demanda_por_clima.plot(kind='bar', color=['skyblue', 'lightgray'])\n",
        "plt.title('Demanda por Bicicletas por Condição Climática')\n",
        "plt.xlabel('Condição Climática')\n",
        "plt.ylabel('Demanda Média de Bicicletas')\n",
        "plt.xticks(rotation=0)\n",
        "plt.show()"
      ]
    },
    {
      "cell_type": "markdown",
      "metadata": {
        "id": "bnF0UVO0lSXI"
      },
      "source": [
        "### 2.4. A temperatura influencia o número de aluguéis?\n",
        "\n",
        "Hipótese: A demanda aumenta com o aumento da temperatura até um certo ponto."
      ]
    },
    {
      "cell_type": "code",
      "execution_count": 12,
      "metadata": {
        "colab": {
          "base_uri": "https://localhost:8080/",
          "height": 933
        },
        "id": "XB-gr4yBlY50",
        "outputId": "c530d38a-5658-4bc8-ed44-40ee97f22360"
      },
      "outputs": [
        {
          "name": "stdout",
          "output_type": "stream",
          "text": [
            "                            OLS Regression Results                            \n",
            "==============================================================================\n",
            "Dep. Variable:                    cnt   R-squared:                       0.164\n",
            "Model:                            OLS   Adj. R-squared:                  0.164\n",
            "Method:                 Least Squares   F-statistic:                     3405.\n",
            "Date:                Fri, 22 Sep 2023   Prob (F-statistic):               0.00\n",
            "Time:                        23:41:03   Log-Likelihood:            -1.1349e+05\n",
            "No. Observations:               17379   AIC:                         2.270e+05\n",
            "Df Residuals:                   17377   BIC:                         2.270e+05\n",
            "Df Model:                           1                                         \n",
            "Covariance Type:            nonrobust                                         \n",
            "==============================================================================\n",
            "                 coef    std err          t      P>|t|      [0.025      0.975]\n",
            "------------------------------------------------------------------------------\n",
            "const         -0.0356      3.483     -0.010      0.992      -6.862       6.791\n",
            "temp         381.2949      6.534     58.352      0.000     368.487     394.103\n",
            "==============================================================================\n",
            "Omnibus:                     3140.760   Durbin-Watson:                   0.368\n",
            "Prob(Omnibus):                  0.000   Jarque-Bera (JB):             5634.907\n",
            "Skew:                           1.152   Prob(JB):                         0.00\n",
            "Kurtosis:                       4.572   Cond. No.                         6.52\n",
            "==============================================================================\n",
            "\n",
            "Notes:\n",
            "[1] Standard Errors assume that the covariance matrix of the errors is correctly specified.\n"
          ]
        },
        {
          "data": {
            "image/png": "[encoded data removed]",
            "text/plain": [
              "<Figure size 432x288 with 1 Axes>"
            ]
          },
          "metadata": {
            "needs_background": "light"
          },
          "output_type": "display_data"
        }
      ],
      "source": [
        "\n",
        "# Defina suas variáveis independentes e dependentes\n",
        "X = df['temp']  # Temperatura\n",
        "y = df['cnt']   # Contagem de aluguéis\n",
        "\n",
        "# Adicione uma constante à matriz X para calcular a interceptação (constante) na regressão\n",
        "X = sm.add_constant(X)\n",
        "\n",
        "# Crie um modelo de regressão linear\n",
        "modelo = sm.OLS(y, X).fit()\n",
        "\n",
        "# Imprima um resumo do modelo (incluindo coeficientes)\n",
        "print(modelo.summary())\n",
        "\n",
        "# Crie um gráfico de dispersão da temperatura em relação à contagem de aluguéis\n",
        "plt.scatter(df['temp'], df['cnt'], alpha=0.5)\n",
        "plt.title('Dispersão de Temperatura vs. Contagem de Aluguéis')\n",
        "plt.xlabel('Temperatura (Celsius)')\n",
        "plt.ylabel('Contagem de Aluguéis')\n",
        "plt.show()"
      ]
    },
    {
      "cell_type": "markdown",
      "metadata": {
        "id": "t5zl6N2NlaMd"
      },
      "source": [
        "### 2.5. Há uma correlação entre a umidade e o número de aluguéis?\n",
        "\n",
        "Hipótese: Uma umidade muito alta pode desencorajar os aluguéis."
      ]
    },
    {
      "cell_type": "code",
      "execution_count": 13,
      "metadata": {
        "colab": {
          "base_uri": "https://localhost:8080/",
          "height": 472
        },
        "id": "fQzAu_yDlhUX",
        "outputId": "20852491-4621-4709-ec28-6dd72ac086bc"
      },
      "outputs": [
        {
          "data": {
            "image/png": "[encoded data removed]",
            "text/plain": [
              "<Figure size 432x288 with 1 Axes>"
            ]
          },
          "metadata": {
            "needs_background": "light"
          },
          "output_type": "display_data"
        }
      ],
      "source": [
        "# Selecione as colunas de umidade e contagem de aluguéis\n",
        "umidade = df['hum']\n",
        "alugueis = df['cnt']\n",
        "\n",
        "# Calcule a correlação entre umidade e aluguéis\n",
        "correlacao = np.corrcoef(umidade, alugueis)[0, 1]\n",
        "\n",
        "# Crie um gráfico de dispersão para visualizar a relação\n",
        "plt.scatter(umidade, alugueis, alpha=0.5)\n",
        "plt.title('Relação entre Umidade e Número de Aluguéis')\n",
        "plt.xlabel('Umidade')\n",
        "plt.ylabel('Número de Aluguéis')\n",
        "plt.text(0.1, 0.9, f'Correlação: {correlacao:.2f}', transform=plt.gca().transAxes)\n",
        "plt.show()"
      ]
    },
    {
      "cell_type": "markdown",
      "metadata": {
        "id": "drAc9JFOrBYD"
      },
      "source": [
        "A interpretação dos resultados depende do valor da correlação. Se a correlação for próxima de -1, isso indicaria uma correlação negativa forte, o que apoiaria a hipótese de que uma umidade muito alta desencoraja os aluguéis. Se a correlação for próxima de 0, isso indicaria que não há uma correlação clara entre as variáveis."
      ]
    },
    {
      "cell_type": "markdown",
      "metadata": {
        "id": "ElMF0P0mljd4"
      },
      "source": [
        "### 2.6. A velocidade do vento influencia o aluguel de bicicletas?\n",
        "\n",
        "Hipótese: Vento muito forte pode reduzir a demanda."
      ]
    },
    {
      "cell_type": "code",
      "execution_count": 14,
      "metadata": {
        "colab": {
          "base_uri": "https://localhost:8080/",
          "height": 564
        },
        "id": "DXJL3k2AlpMN",
        "outputId": "32ce8151-fad9-4018-fd4b-ea5e33486cb4"
      },
      "outputs": [
        {
          "data": {
            "image/png": "[encoded data removed]",
            "text/plain": [
              "<Figure size 720x432 with 1 Axes>"
            ]
          },
          "metadata": {
            "needs_background": "light"
          },
          "output_type": "display_data"
        }
      ],
      "source": [
        "plt.figure(figsize=(10, 6))\n",
        "sns.scatterplot(data=df, x='windspeed', y='cnt')\n",
        "plt.title('Relação entre Velocidade do Vento e Aluguel de Bicicletas')\n",
        "plt.xlabel('Velocidade do Vento')\n",
        "plt.ylabel('Aluguel de Bicicletas')\n",
        "plt.show()\n"
      ]
    },
    {
      "cell_type": "markdown",
      "metadata": {
        "id": "c6z-ZhXKraeh"
      },
      "source": [
        "Este gráfico de dispersão inicial nos dará uma ideia geral da relação entre a velocidade do vento e o aluguel de bicicletas. No entanto, para testar estatisticamente a hipótese, precisaremos realizar um teste de correlação e um teste de hipótese."
      ]
    },
    {
      "cell_type": "code",
      "execution_count": 15,
      "metadata": {
        "colab": {
          "base_uri": "https://localhost:8080/"
        },
        "id": "Dm09WZk3rdMc",
        "outputId": "6b14606a-41bf-421e-a903-67e9c4ba3340"
      },
      "outputs": [
        {
          "name": "stdout",
          "output_type": "stream",
          "text": [
            "Coeficiente de Correlação: 0.09323378392612534\n",
            "Valor p: 7.345742373499617e-35\n"
          ]
        }
      ],
      "source": [
        "# Vamos calcular o coeficiente de correlação de Pearson para medir a força e a direção da relação entre as duas variáveis.\n",
        "\n",
        "correlation, p_value = stats.pearsonr(df['windspeed'], df['cnt'])\n",
        "print(f'Coeficiente de Correlação: {correlation}')\n",
        "print(f'Valor p: {p_value}')\n"
      ]
    },
    {
      "cell_type": "markdown",
      "metadata": {
        "id": "8f255G3nrmn6"
      },
      "source": [
        "O valor de correlation vai indicar a direção (positiva ou negativa) e a força da relação. O valor p (p_value) nos ajudará a determinar se essa correlação é estatisticamente significativa."
      ]
    },
    {
      "cell_type": "code",
      "execution_count": 16,
      "metadata": {
        "colab": {
          "base_uri": "https://localhost:8080/"
        },
        "id": "KVLxcpKArniL",
        "outputId": "d3ce0232-4f31-4ffd-aba9-78093c077aa7"
      },
      "outputs": [
        {
          "name": "stdout",
          "output_type": "stream",
          "text": [
            "Test Statistic: -1.459349872278971\n",
            "Valor p: 0.14448691138803565\n"
          ]
        }
      ],
      "source": [
        "# Vamos realizar um teste de hipótese para verificar se a diferença na demanda de aluguel de bicicletas é significativamente diferente em dias com ventos muito fortes em comparação com dias com ventos mais fracos.\n",
        "\n",
        "# Separar os dados em duas categorias: vento muito forte (exemplo: maior que 0.6) e vento mais fraco\n",
        "strong_wind = df[df['windspeed'] > 0.6]['cnt']\n",
        "weak_wind = df[df['windspeed'] <= 0.6]['cnt']\n",
        "\n",
        "# Realizar um teste t independente para comparar as médias\n",
        "t_stat, p_value = stats.ttest_ind(strong_wind, weak_wind)\n",
        "print(f'Test Statistic: {t_stat}')\n",
        "print(f'Valor p: {p_value}')\n"
      ]
    },
    {
      "cell_type": "markdown",
      "metadata": {
        "id": "8mzWUDVyrw2h"
      },
      "source": [
        "O valor de p_value nos dirá se há uma diferença significativa na demanda de aluguel de bicicletas em dias com ventos muito fortes em comparação com dias com ventos mais fracos."
      ]
    },
    {
      "cell_type": "code",
      "execution_count": 17,
      "metadata": {
        "colab": {
          "base_uri": "https://localhost:8080/",
          "height": 657
        },
        "id": "9KXoeaRbrxrD",
        "outputId": "538228fd-90f0-4851-8677-f0826045e8a7"
      },
      "outputs": [
        {
          "data": {
            "image/png": "[encoded data removed]",
            "text/plain": [
              "<Figure size 720x432 with 1 Axes>"
            ]
          },
          "metadata": {
            "needs_background": "light"
          },
          "output_type": "display_data"
        }
      ],
      "source": [
        "# Para representar graficamente a diferença na demanda de aluguel de bicicletas em diferentes níveis de velocidade do vento, você pode criar um gráfico de barras.\n",
        "\n",
        "# Defina os grupos de velocidade do vento (você pode ajustar os limites conforme necessário)\n",
        "wind_groups = ['Muito Fraco', 'Fraco', 'Moderado', 'Forte']\n",
        "cut_points = [0.0, 0.2, 0.4, 0.6, df['windspeed'].max()]\n",
        "df['windspeed_group'] = pd.cut(df['windspeed'], cut_points, labels=wind_groups)\n",
        "\n",
        "# Agora você pode criar o gráfico de barras\n",
        "plt.figure(figsize=(10, 6))\n",
        "sns.barplot(x='windspeed_group', y='cnt', data=df, ci='sd')\n",
        "plt.title('Média de Aluguel de Bicicletas por Grupo de Velocidade do Vento')\n",
        "plt.xlabel('Grupo de Velocidade do Vento')\n",
        "plt.ylabel('Média de Aluguel de Bicicletas')\n",
        "plt.show()\n"
      ]
    },
    {
      "cell_type": "markdown",
      "metadata": {
        "id": "EUndheALzNvP"
      },
      "source": [
        "Neste código, criamos os grupos de velocidade do vento com base nos valores de 'windspeed' e atribuímos esses grupos a uma nova coluna chamada 'windspeed_group'. Em seguida, utilizamos essa coluna para criar o gráfico de barras."
      ]
    },
    {
      "cell_type": "markdown",
      "metadata": {
        "id": "WRt3JewplrxS"
      },
      "source": [
        "### 2.7. O número de alugueis casuais difere significativamente dos alugueis registrados?\n",
        "\n",
        "Hipótese: Usuários registrados podem ter um padrão diferente de aluguel em comparação com usuários casuais."
      ]
    },
    {
      "cell_type": "code",
      "execution_count": 18,
      "metadata": {
        "colab": {
          "base_uri": "https://localhost:8080/",
          "height": 583
        },
        "id": "pClP5z5GlxOc",
        "outputId": "33fc9e07-8ad8-4962-fc1b-94d75eabdc84"
      },
      "outputs": [
        {
          "name": "stdout",
          "output_type": "stream",
          "text": [
            "A diferença entre aluguéis casuais e registrados é estatisticamente significativa.\n"
          ]
        },
        {
          "data": {
            "image/png": "[encoded data removed]",
            "text/plain": [
              "<Figure size 720x432 with 1 Axes>"
            ]
          },
          "metadata": {
            "needs_background": "light"
          },
          "output_type": "display_data"
        }
      ],
      "source": [
        "# Dividir os dados em grupos de aluguéis casuais e registrados\n",
        "alugueis_casuais = df['casual']\n",
        "alugueis_registrados = df['registered']\n",
        "\n",
        "# Realizar o teste t independente\n",
        "t_stat, p_value = stats.ttest_ind(alugueis_casuais, alugueis_registrados)\n",
        "\n",
        "# Definir um nível de significância (geralmente 0,05)\n",
        "alpha = 0.05\n",
        "\n",
        "# Verificar se a diferença é estatisticamente significativa\n",
        "if p_value < alpha:\n",
        "    print(\"A diferença entre aluguéis casuais e registrados é estatisticamente significativa.\")\n",
        "else:\n",
        "    print(\"Não há diferença estatisticamente significativa entre aluguéis casuais e registrados.\")\n",
        "\n",
        "# Criar um gráfico de barras para visualizar a diferença\n",
        "plt.figure(figsize=(10, 6))\n",
        "plt.bar(['Casuais', 'Registrados'], [alugueis_casuais.mean(), alugueis_registrados.mean()])\n",
        "plt.xlabel('Tipo de Aluguel')\n",
        "plt.ylabel('Média de Aluguéis')\n",
        "plt.title('Média de Aluguéis Casuais e Registrados')\n",
        "plt.show()"
      ]
    },
    {
      "cell_type": "markdown",
      "metadata": {
        "id": "4cJ-1q6kzogc"
      },
      "source": [
        "Este código realiza o teste t independente para verificar se há uma diferença significativa entre os aluguéis casuais e registrados e, em seguida, exibe um gráfico de barras que compara a média de aluguéis para ambos os grupos."
      ]
    },
    {
      "cell_type": "markdown",
      "metadata": {
        "id": "fiv7CDDElyDE"
      },
      "source": [
        "### 2.8. Há padrões de demanda durante as horas do dia?\n",
        "\n",
        "Hipótese: A demanda é maior durante as horas de pico de ida e volta do trabalho."
      ]
    },
    {
      "cell_type": "code",
      "execution_count": 19,
      "metadata": {
        "colab": {
          "base_uri": "https://localhost:8080/",
          "height": 573
        },
        "id": "1IYcIZ_el6UU",
        "outputId": "2b035648-2c79-4352-992f-acbcde81db77"
      },
      "outputs": [
        {
          "data": {
            "image/png": "[encoded data removed]",
            "text/plain": [
              "<Figure size 864x432 with 1 Axes>"
            ]
          },
          "metadata": {
            "needs_background": "light"
          },
          "output_type": "display_data"
        }
      ],
      "source": [
        "# Crie uma coluna de data e hora combinadas\n",
        "df['datetime'] = pd.to_datetime(df['dteday'] + ' ' + df['hr'].astype(str) + ':00:00')\n",
        "\n",
        "# Agrupe os dados por hora do dia e calcule a média da contagem total de bicicletas alugadas\n",
        "hourly_demand = df.groupby(df['datetime'].dt.hour)['cnt'].mean()\n",
        "\n",
        "# Crie um gráfico de barras para visualizar a demanda ao longo do dia\n",
        "plt.figure(figsize=(12, 6))\n",
        "sns.barplot(x=hourly_demand.index, y=hourly_demand.values, color='skyblue')\n",
        "plt.xlabel('Hora do Dia')\n",
        "plt.ylabel('Média da Contagem de Bicicletas Alugadas')\n",
        "plt.title('Padrões de Demanda durante as Horas do Dia')\n",
        "plt.xticks(rotation=45)\n",
        "plt.grid(axis='y', linestyle='--', alpha=0.7)\n",
        "plt.show()"
      ]
    },
    {
      "cell_type": "markdown",
      "metadata": {
        "id": "tn2GMj3r0FkP"
      },
      "source": [
        "Este código realizará o seguinte:\n",
        "\n",
        "Carrega o conjunto de dados e combina as informações de data e hora em uma única coluna datetime.\n",
        "\n",
        "Agrupa os dados pela hora do dia e calcula a média da contagem total de bicicletas alugadas para cada hora.\n",
        "\n",
        "Cria um gráfico de barras para visualizar os padrões de demanda ao longo do dia.\n",
        "\n",
        "O gráfico resultante mostrará como a demanda varia durante as horas do dia. Você pode analisar o gráfico para verificar se há picos de demanda durante as horas de pico de ida e volta do trabalho, o que ajudará a testar a hipótese. Se você observar picos nas horas correspondentes, isso indicará que a demanda é de fato maior durante essas horas."
      ]
    },
    {
      "cell_type": "markdown",
      "metadata": {
        "id": "OdQnrwx5l68p"
      },
      "source": [
        "### 2.9. Há padrões semanais na demanda de bicicletas?\n",
        "\n",
        "Hipótese: Os finais de semana têm um padrão de demanda diferente dos dias úteis."
      ]
    },
    {
      "cell_type": "code",
      "execution_count": 20,
      "metadata": {
        "colab": {
          "base_uri": "https://localhost:8080/",
          "height": 472
        },
        "id": "J9pBRrb7mA2-",
        "outputId": "072de471-1779-4c66-b0bf-2115746754f2"
      },
      "outputs": [
        {
          "data": {
            "image/png": "[encoded data removed]",
            "text/plain": [
              "<Figure size 432x288 with 1 Axes>"
            ]
          },
          "metadata": {
            "needs_background": "light"
          },
          "output_type": "display_data"
        }
      ],
      "source": [
        "# Converter a coluna 'dteday' para o tipo de dado datetime\n",
        "df['dteday'] = pd.to_datetime(df['dteday'])\n",
        "\n",
        "# Criar coluna 'weekday' para representar o dia da semana (0 = segunda-feira, 6 = domingo)\n",
        "df['weekday'] = df['dteday'].dt.weekday\n",
        "\n",
        "# Criar uma nova coluna 'tipo_dia' para diferenciar entre dias úteis e finais de semana\n",
        "df['tipo_dia'] = df['weekday'].apply(lambda x: 'Fim de Semana' if x >= 5 else 'Dia Útil')\n",
        "\n",
        "# Calcular a média da contagem total de bicicletas alugadas para cada tipo de dia\n",
        "media_por_tipo_dia = df.groupby('tipo_dia')['cnt'].mean()\n",
        "\n",
        "# Plotar um gráfico de barras para comparar a demanda média nos diferentes tipos de dia\n",
        "sns.barplot(x=media_por_tipo_dia.index, y=media_por_tipo_dia.values)\n",
        "plt.xlabel('Tipo de Dia')\n",
        "plt.ylabel('Demanda Média de Bicicletas Alugadas')\n",
        "plt.title('Demanda Média de Bicicletas Alugadas por Tipo de Dia')\n",
        "plt.show()"
      ]
    },
    {
      "cell_type": "markdown",
      "metadata": {
        "id": "68eH49OJ1AR3"
      },
      "source": [
        "Este código fará o seguinte:\n",
        "\n",
        "Converte a coluna 'dteday' para o tipo de dado datetime para que possamos trabalhar com datas.\n",
        "\n",
        "Cria uma coluna 'weekday' que representa o dia da semana (0 para segunda-feira, 6 para domingo).\n",
        "\n",
        "Cria uma nova coluna 'tipo_dia' para distinguir entre dias úteis e finais de semana com base na coluna 'weekday'.\n",
        "\n",
        "Calcula a média da contagem total de bicicletas alugadas para cada tipo de dia.\n",
        "\n",
        "Plota um gráfico de barras para comparar a demanda média de bicicletas alugadas nos diferentes tipos de dia (dias úteis vs. finais de semana).\n",
        "\n",
        "Este gráfico ajudará a visualizar se há diferenças nos padrões de demanda de bicicletas entre dias úteis e finais de semana. Você pode ajustar e personalizar o código conforme necessário para se adequar aos detalhes específicos do seu conjunto de dados."
      ]
    },
    {
      "cell_type": "markdown",
      "metadata": {
        "id": "vLvsmqkxmBJu"
      },
      "source": [
        "### 2.10. O ano mostra um aumento na demanda de bicicletas (indicando um crescimento no serviço)?\n",
        "\n",
        "Hipótese: Com o passar dos anos, a demanda por serviços de compartilhamento de bicicletas aumenta."
      ]
    },
    {
      "cell_type": "code",
      "execution_count": 21,
      "metadata": {
        "colab": {
          "base_uri": "https://localhost:8080/",
          "height": 565
        },
        "id": "JMUaAo8SmH20",
        "outputId": "3bf83a8b-287e-48cf-d7b4-621d38869020"
      },
      "outputs": [
        {
          "data": {
            "image/png": "[encoded data removed]",
            "text/plain": [
              "<Figure size 576x432 with 1 Axes>"
            ]
          },
          "metadata": {
            "needs_background": "light"
          },
          "output_type": "display_data"
        }
      ],
      "source": [
        "\n",
        "# Agrupe os dados por ano e calcule a média da contagem total de bicicletas alugadas para cada ano\n",
        "yearly_data = df.groupby('yr')['cnt'].mean()\n",
        "\n",
        "# Crie um gráfico de barras para visualizar a média de aluguéis de bicicletas por ano\n",
        "plt.figure(figsize=(8, 6))\n",
        "yearly_data.plot(kind='bar', color='skyblue')\n",
        "plt.title('Média de Aluguéis de Bicicletas por Ano')\n",
        "plt.xlabel('Ano')\n",
        "plt.ylabel('Média de Aluguéis')\n",
        "plt.xticks(rotation=0)\n",
        "plt.show()"
      ]
    },
    {
      "cell_type": "markdown",
      "metadata": {
        "id": "EVJ0X0H-1d5q"
      },
      "source": [
        "Se o gráfico de barras mostrar um aumento consistente na média de aluguéis de bicicletas ao longo dos anos, isso fornecerá uma representação visual dos dados que suporta a hipótese de que a demanda por serviços de compartilhamento de bicicletas está aumentando com o passar dos anos."
      ]
    },
    {
      "cell_type": "markdown",
      "metadata": {
        "id": "hTbLUemwkCFT"
      },
      "source": [
        "# 3. Insights"
      ]
    },
    {
      "cell_type": "markdown",
      "metadata": {
        "id": "T3ftfycPHe35"
      },
      "source": [
        "## 3.1 As variações na estação do ano têm um impacto significativo na quantidade de bicicletas alugadas\n",
        "\n",
        "A análise estatística realizada para investigar a influência da estação do ano na demanda por bicicletas revelou resultados altamente significativos. O resultado do teste ANOVA (Análise de Variância) apresentou um valor de F-statistic igual a 409.18, com um p-value extremamente baixo de aproximadamente 7.40 x 10^-257.\n",
        "\n",
        "Esse resultado estatístico indica claramente que há uma influência estatisticamente significativa da estação do ano na demanda por bicicletas. Em outras palavras, as variações na estação do ano têm um impacto significativo na quantidade de bicicletas alugadas. O p-value extremamente baixo sugere que a probabilidade de esses resultados ocorrerem ao acaso é virtualmente nula, fortalecendo ainda mais a conclusão de que a estação do ano desempenha um papel crucial na determinação da demanda.\n",
        "\n",
        "Isso confirma a hipótese inicial de que o verão, com seu clima mais propício, apresenta uma demanda maior por bicicletas em comparação com as outras estações. Os dados não apenas corroboram essa hipótese, mas também fornecem uma base sólida para a tomada de decisões relacionadas à gestão e otimização do serviço de compartilhamento de bicicletas, permitindo um melhor planejamento de recursos em diferentes épocas do ano."
      ]
    },
    {
      "cell_type": "markdown",
      "metadata": {
        "id": "tIvplPYcHinn"
      },
      "source": [
        "## 3.2 A Demanda por Bicicletas é Menor em Feriados\n",
        "\n",
        "Após conduzir uma análise estatística rigorosa, foi observado que a diferença na demanda por bicicletas entre dias de feriado e dias que não são feriados é estatisticamente significativa (p-valor = 4.546e-05). Isso indica que há uma variação notável nas médias de aluguéis de bicicletas entre esses dois grupos de dias.\n",
        "\n",
        "Os resultados sugerem que, em média, a demanda por bicicletas é menor em feriados. Esta conclusão pode ser atribuída ao fato de que as pessoas tendem a não trabalhar em feriados, reduzindo a necessidade de transporte, o que se reflete nos números de aluguéis de bicicletas. Isso é consistente com a hipótese inicial de que os feriados podem impactar negativamente a demanda por bicicletas devido à menor atividade de trabalho e viagens relacionadas a negócios.\n",
        "\n",
        "Essa descoberta pode ter implicações importantes para a gestão de serviços de compartilhamento de bicicletas, ajudando a programar recursos de forma mais eficaz e otimizar a oferta de bicicletas em dias de feriado versus dias regulares.\n",
        "\n"
      ]
    },
    {
      "cell_type": "markdown",
      "metadata": {
        "id": "CkccoQF5IlvP"
      },
      "source": [
        "## 3.3  Relação entre Condições Climáticas e Demanda por Aluguel de Bicicletas\n",
        "\n",
        "Nossas descobertas demonstram que, de fato, existe uma diferença notável na demanda média de bicicletas em dias com diferentes condições climáticas:\n",
        "\n",
        "Dias Claros: Durante dias com condições climáticas claras, observamos uma demanda média por aluguel de bicicletas significativamente maior, com uma média de mais de 200 aluguéis. Esse resultado sugere que as pessoas estão mais propensas a optar pelo compartilhamento de bicicletas em dias ensolarados, o que é coerente com a ideia de que o clima agradável incentiva as atividades ao ar livre, como andar de bicicleta.\n",
        "\n",
        "Dias Não Claros: Por outro lado, em dias não claros, que englobam condições climáticas adversas, como chuva ou neve, observamos uma demanda média um pouco acima de 150 aluguéis. Isso indica que, embora haja uma diminuição na demanda em comparação com dias claros, ainda existe um interesse considerável em alugar bicicletas mesmo em condições climáticas desfavoráveis. Essa demanda pode ser atribuída a necessidades de locomoção ou preferências individuais.\n",
        "\n",
        "Esses insights ressaltam a influência direta do clima nas decisões dos usuários de bicicletas compartilhadas. A disponibilidade de bicicletas em dias ensolarados pode se tornar um recurso essencial para incentivar o uso do sistema de compartilhamento de bicicletas, enquanto em condições climáticas desafiadoras, a demanda tende a ser um pouco menor, mas ainda significativa."
      ]
    },
    {
      "cell_type": "markdown",
      "metadata": {
        "id": "BOWGAaHIJTtW"
      },
      "source": [
        "## 3.4 Análise de Regressão Linear para Avaliar a Influência da Temperatura na Contagem de Aluguéis de Bicicletas\n",
        "\n",
        "A análise de regressão linear realizada para investigar a relação entre a temperatura e o número de aluguéis de bicicletas revelou insights valiosos. O modelo de regressão foi executado utilizando a técnica de Mínimos Quadrados Ordinários (OLS) e produziu os seguintes resultados:\n",
        "\n",
        "**Coeficientes Estimados:**\n",
        "\n",
        "- Interceptação (constante): -0.0356\n",
        "- Temperatura (temp): 381.2949\n",
        "\n",
        "**R-squared (R²):** 0.164\n",
        "\n",
        "O R-squared, que mede a proporção da variação na variável dependente (contagem de aluguéis) explicada pelas variáveis independentes (temperatura), é igual a 0.164. Isso significa que aproximadamente 16.4% da variabilidade na contagem de aluguéis pode ser explicada pela temperatura.\n",
        "\n",
        "**Significância Estatística:**\n",
        "\n",
        "- A temperatura (temp) possui um coeficiente significativamente diferente de zero, com um alto valor de t (58.352) e um p-valor muito baixo (0.000). Isso indica que a temperatura tem um efeito significativo na contagem de aluguéis de bicicletas.\n",
        "\n",
        "**Interceptação (Constante):**\n",
        "\n",
        "- A interceptação do modelo, que representa a contagem de aluguéis quando a temperatura é zero, é -0.0356. No contexto deste modelo, essa interceptação pode não ter uma interpretação prática direta, pois a temperatura nunca é realmente zero.\n",
        "\n",
        "**R-squared Ajustado (Adj. R²):**\n",
        "\n",
        "- O R-squared ajustado é igual a 0.164, que é semelhante ao R-squared. Ele leva em consideração o número de variáveis independentes no modelo.\n",
        "\n",
        "\n",
        "Esses resultados sugerem que a temperatura tem uma influência significativa na contagem de aluguéis de bicicletas. No entanto, é importante notar que a relação não é linear. O modelo indica que a contagem de aluguéis aumenta à medida que a temperatura aumenta, mas esse aumento pode não ser linear. É possível que haja outros fatores não incluídos no modelo que também afetam a contagem de aluguéis.\n",
        "\n",
        "Além disso, o R-squared relativamente baixo (0.164) indica que a temperatura explica apenas uma parte da variação na contagem de aluguéis. Outros fatores, como a hora do dia, a situação climática e outros, também podem desempenhar um papel importante na demanda por aluguéis de bicicletas.\n",
        "\n",
        "Portanto, enquanto a temperatura é um fator significativo, é importante considerar outros elementos para uma compreensão completa da dinâmica por trás do compartilhamento de bicicletas."
      ]
    },
    {
      "cell_type": "markdown",
      "metadata": {
        "id": "PsKfy-LjnykJ"
      },
      "source": [
        "## 3.5 Análise de Correlação entre Umidade e Número de Aluguéis de Bicicletas\n",
        "\n",
        "Realizamos uma análise estatística para investigar a possível relação entre a umidade e o número de aluguéis de bicicletas em nosso conjunto de dados. A correlação calculada entre essas duas variáveis foi de -0.32.\n",
        "\n",
        "A correlação negativa entre umidade e aluguéis sugere que há uma tendência de diminuição no número de aluguéis de bicicletas em condições de umidade mais alta. Embora a correlação não seja extremamente forte, sua natureza negativa indica que, em geral, um aumento na umidade está associado a uma redução modesta no número de aluguéis de bicicletas.\n",
        "\n",
        "Isso pode ser interpretado como um indício de que, em dias com umidade muito alta, as pessoas podem estar menos propensas a alugar bicicletas. Existem várias razões possíveis para essa relação, como o desconforto causado pela umidade elevada ou preocupações com as condições de pilotagem em condições climáticas adversas.\n",
        "\n",
        "É importante observar que a correlação de -0.32, embora sugira uma tendência, não implica necessariamente uma relação de causa e efeito. Outros fatores podem influenciar a demanda por aluguéis de bicicletas, e mais análises são necessárias para compreender completamente os determinantes dessa relação."
      ]
    },
    {
      "cell_type": "markdown",
      "metadata": {
        "id": "QDWv2HoWo_0v"
      },
      "source": [
        "### 3.6 Análise da Influência da Velocidade do Vento no Aluguel de Bicicletas\n",
        "\n",
        "Nossa análise se concentrou na questão de como a velocidade do vento impacta o aluguel de bicicletas em um conjunto de dados de compartilhamento de bicicletas. Aqui estão alguns dos principais insights que podemos extrair a partir dos dados e das análises estatísticas realizadas:\n",
        "\n",
        "**Influência da Velocidade do Vento na Demanda de Bicicletas:**\n",
        "\n",
        "- Quando a velocidade do vento é igual a zero, observamos um aluguel de bicicletas alto. Isso sugere que em condições de vento calmo, as pessoas têm uma maior propensão a alugar bicicletas.\n",
        "\n",
        "- À medida que a velocidade do vento aumenta além de 0.4, o aluguel de bicicletas diminui de forma drástica. Isso indica que ventos fortes podem reduzir significativamente a demanda por bicicletas.\n",
        "\n",
        "**Coeficiente de Correlação:**\n",
        "\n",
        "- Calculamos o coeficiente de correlação de Pearson entre a velocidade do vento e o aluguel de bicicletas. O valor do coeficiente de correlação foi aproximadamente 0.093, o que indica uma correlação muito fraca entre essas duas variáveis.\n",
        "\n",
        "- O valor p associado ao coeficiente de correlação foi extremamente baixo (7.35e-35), sugerindo que essa correlação é estatisticamente significativa. No entanto, a força dessa correlação é muito fraca, o que significa que outros fatores provavelmente desempenham um papel mais significativo na determinação da demanda de aluguel de bicicletas.\n",
        "\n",
        "**Teste de Hipótese:**\n",
        "\n",
        "- Realizamos um teste de hipótese para comparar a demanda média de aluguel de bicicletas em dias com ventos muito fortes e dias com ventos mais fracos. O teste estatístico (valor t) foi -1.459, e o valor p foi de aproximadamente 0.144.\n",
        "\n",
        "- Com um valor p acima do nível típico de significância de 0.05, não encontramos evidências estatisticamente significativas para rejeitar a hipótese nula de que não há diferença significativa na demanda de aluguel de bicicletas entre esses grupos.\n",
        "\n",
        "**Análise por Grupo de Velocidade do Vento:**\n",
        "\n",
        "- Ao criar grupos de velocidade do vento (por exemplo, \"Muito Fraco\", \"Fraco\", \"Moderado\", \"Forte\"), observamos que o aluguel de bicicletas é maior em dias com ventos fracos e moderados. Isso sugere que, dentro da faixa de ventos mais comuns, as pessoas estão mais propensas a alugar bicicletas."
      ]
    },
    {
      "cell_type": "markdown",
      "metadata": {
        "id": "3GhZmLhwpYEF"
      },
      "source": [
        "## 3.7 A Diferença nos Aluguéis Casuais e Registrados é Estatisticamente Significativa\n",
        "\n",
        "Nossa análise dos dados de aluguel de bicicletas revelou uma diferença estatisticamente significativa entre os aluguéis casuais e registrados. Esta descoberta é crucial para entender o comportamento dos usuários e pode ter implicações importantes em nossa estratégia de negócios relacionada ao compartilhamento de bicicletas.\n",
        "\n",
        "Em média, os aluguéis registrados apresentam um número muito maior em comparação com os aluguéis casuais. Enquanto a média de aluguéis casuais se mantém próxima a 40, os aluguéis registrados atingem uma média próxima a 160. Essa disparidade é evidenciada no gráfico de barras, onde observamos claramente que os aluguéis registrados superam substancialmente os aluguéis casuais.\n",
        "\n",
        "Essa diferença significativa sugere que os usuários registrados, que podem ser associados a membros recorrentes ou de longo prazo, têm um padrão de aluguel diferente em relação aos usuários casuais. Os usuários registrados podem estar mais comprometidos com o serviço, fazendo uso frequente das bicicletas, o que resulta em uma média de aluguéis mais alta. Por outro lado, os usuários casuais podem incluir turistas ou pessoas que utilizam o serviço esporadicamente, resultando em uma média de aluguéis mais baixa."
      ]
    },
    {
      "cell_type": "markdown",
      "metadata": {
        "id": "2sEc4Sd-n0cv"
      },
      "source": [
        "## 3.8 Padrões de Aluguéis de Bicicletas durante o Dia\n",
        "\n",
        "A análise dos dados do conjunto \"Bike Sharing Dataset\" revelou padrões de demanda que oferecem uma visão valiosa sobre como o uso de bicicletas varia ao longo do dia. Os seguintes insights foram obtidos:\n",
        "\n",
        "1. Aumento a partir das 6h: Os aluguéis de bicicletas começam a aumentar significativamente a partir das 6 horas da manhã. Esse aumento sugere que as pessoas estão recorrendo às bicicletas como um meio de transporte para o trabalho, escola ou outras atividades diárias. Este é um indicativo claro de que as bicicletas compartilhadas estão desempenhando um papel importante na mobilidade urbana durante as horas da manhã.\n",
        "\n",
        "2. Picos nas Horas de Pico: Durante as horas de pico de ida e volta do trabalho, que geralmente ocorrem entre as 7h e as 9h da manhã e entre as 17h e as 19h da tarde, os aluguéis de bicicletas atingem seus níveis mais altos. Este é um achado consistente com a hipótese de que a demanda por bicicletas é maior durante essas horas, conforme as pessoas buscam alternativas de transporte eficientes para evitar o tráfego e chegar ao trabalho.\n",
        "\n",
        "3. Queda após as 17h: Após as 17h, observa-se uma queda sucessiva no número de aluguéis de bicicletas. Isso sugere que as pessoas estão retornando para casa ou encerrando suas atividades do dia, reduzindo a demanda por bicicletas compartilhadas. Essa tendência de queda continua até altas horas da noite.\n",
        "\n",
        "4. Recuperação no Próximo Dia: A demanda por aluguéis de bicicletas só começa a se recuperar no próximo dia, geralmente por volta das 6h da manhã. Isso indica que o padrão diário de aluguéis segue um ciclo consistente, com picos durante as horas de pico de trabalho e períodos de menor uso durante a noite."
      ]
    },
    {
      "cell_type": "markdown",
      "metadata": {
        "id": "plD0NQZCrZUm"
      },
      "source": [
        "## 3.9 Análise da Demanda de Bicicletas\n",
        "\n",
        "Ao analisar a demanda de bicicletas ao longo dos dias da semana, observamos que a demanda média em dias úteis é maior em comparação com os finais de semana. No entanto, é importante notar que a diferença entre os dois tipos de dias não é muito significativa.\n",
        "\n",
        "A análise dos dados revelou que os dias úteis apresentam uma demanda média ligeiramente superior em comparação com os finais de semana. Isso pode indicar que o uso das bicicletas para fins de deslocamento diário, como ir ao trabalho ou à escola, é mais frequente durante a semana. Por outro lado, nos finais de semana, as pessoas podem optar por outros meios de transporte ou atividades de lazer que não envolvem o aluguel de bicicletas.\n",
        "\n",
        "Embora haja uma diferença na demanda média, é importante destacar que essa diferença não é substancial, o que sugere que o sistema de compartilhamento de bicicletas é utilizado de maneira relativamente consistente ao longo da semana. Essa constância na demanda pode ser valiosa para o planejamento de recursos e a gestão eficiente do sistema de compartilhamento de bicicletas."
      ]
    },
    {
      "cell_type": "markdown",
      "metadata": {
        "id": "gob3zeVzrbmc"
      },
      "source": [
        "## 3.10 Aumento na Demanda por Bicicletas de Compartilhamento ao Longo dos Anos\n",
        "\n",
        "Ao explorar o conjunto de dados sobre o compartilhamento de bicicletas, realizamos uma análise que tinha como objetivo testar a hipótese de que a demanda por serviços de compartilhamento de bicicletas aumenta com o passar dos anos. Nossa análise revelou insights interessantes que podem ser valiosos para entender as tendências de aluguel de bicicletas.\n",
        "\n",
        "Ao examinar os dados, agrupamos as informações por ano e calculamos a média da contagem total de bicicletas alugadas para cada ano. Os resultados foram surpreendentes. No primeiro ano (Ano 0), a média de aluguéis estava próxima de 150 bicicletas. No entanto, observamos um aumento notável no segundo ano (Ano 1), com a média de aluguéis aproximando-se de 250 bicicletas.\n",
        "\n",
        "Essa descoberta é intrigante, pois indica um crescimento substancial na demanda por serviços de compartilhamento de bicicletas entre os dois anos analisados. Esse aumento pode ser atribuído a uma variedade de fatores, como a conscientização crescente sobre a mobilidade sustentável, melhorias na infraestrutura de ciclovias, ou simplesmente a crescente popularidade do compartilhamento de bicicletas como uma opção de transporte conveniente."
      ]
    }
  ],
  "metadata": {
    "colab": {
      "collapsed_sections": [
        "Bc24OL0OkCFQ",
        "jy0-2nvEkCFQ",
        "FYww7xlMkCFR",
        "B1l6kuhxkCFR",
        "V-SJQReukCFS",
        "DZ_vEHrYkCFT",
        "ElASPxFMklJH",
        "VxuNJuTzk2r-",
        "AulVDUfFlGkD",
        "bnF0UVO0lSXI",
        "t5zl6N2NlaMd",
        "ElMF0P0mljd4",
        "WRt3JewplrxS",
        "fiv7CDDElyDE",
        "OdQnrwx5l68p",
        "vLvsmqkxmBJu",
        "hTbLUemwkCFT"
      ],
      "provenance": []
    },
    "kernelspec": {
      "display_name": "Python 3.8.10 ('.venv': poetry)",
      "language": "python",
      "name": "python3"
    },
    "language_info": {
      "codemirror_mode": {
        "name": "ipython",
        "version": 3
      },
      "file_extension": ".py",
      "mimetype": "text/x-python",
      "name": "python",
      "nbconvert_exporter": "python",
      "pygments_lexer": "ipython3",
      "version": "3.8.10"
    },
    "orig_nbformat": 4,
    "vscode": {
      "interpreter": {
        "hash": "eb3c3305d8b111f0102f4f519c5f17abd113fe74db6752c355e994a9008815ef"
      }
    }
  },
  "nbformat": 4,
  "nbformat_minor": 0
}
